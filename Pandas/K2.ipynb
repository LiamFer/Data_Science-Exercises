{
 "cells": [
  {
   "cell_type": "code",
   "execution_count": null,
   "metadata": {},
   "outputs": [],
   "source": [
    "import pandas as pd"
   ]
  },
  {
   "cell_type": "code",
   "execution_count": null,
   "metadata": {},
   "outputs": [],
   "source": [
    "df = pd.read_csv(r\"http://bit.ly/imdbratings\")"
   ]
  },
  {
   "cell_type": "code",
   "execution_count": null,
   "metadata": {},
   "outputs": [],
   "source": [
    "# Sorting values\n",
    "df.sort_values('star_rating',ascending=False)\n",
    "df.sort_values(['star_rating','genre'],ascending=False)"
   ]
  },
  {
   "cell_type": "code",
   "execution_count": null,
   "metadata": {},
   "outputs": [],
   "source": [
    "# Filtering Rows\n",
    "df.loc[df['duration'] >= 200,'genre']\n",
    "df[df['duration'] >= 200]['genre']\n",
    "df[df['duration'] >= 200]\n"
   ]
  },
  {
   "cell_type": "code",
   "execution_count": null,
   "metadata": {},
   "outputs": [],
   "source": [
    "# Multiple filter criteria\n",
    "df = pd.read_csv(r\"http://bit.ly/imdbratings\")\n",
    "# We use & instead of AND, | instead of OR\n",
    "df[(df['duration'] >= 200) & (df['genre'] == 'Drama')]\n",
    "df[(df['duration'] >= 200) | (df['genre'] == 'Drama')]\n",
    "df[df['genre'].isin([\"Drama\",\"Crime\"])].reset_index()"
   ]
  }
 ],
 "metadata": {
  "kernelspec": {
   "display_name": "Python 3",
   "language": "python",
   "name": "python3"
  },
  "language_info": {
   "codemirror_mode": {
    "name": "ipython",
    "version": 3
   },
   "file_extension": ".py",
   "mimetype": "text/x-python",
   "name": "python",
   "nbconvert_exporter": "python",
   "pygments_lexer": "ipython3",
   "version": "3.11.0"
  }
 },
 "nbformat": 4,
 "nbformat_minor": 2
}
