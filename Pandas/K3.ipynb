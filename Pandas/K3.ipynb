{
 "cells": [
  {
   "cell_type": "code",
   "execution_count": null,
   "metadata": {},
   "outputs": [],
   "source": [
    "import pandas as pd"
   ]
  },
  {
   "cell_type": "code",
   "execution_count": null,
   "metadata": {},
   "outputs": [],
   "source": [
    "df = pd.read_csv(r\"http://bit.ly/drinksbycountry\")"
   ]
  },
  {
   "cell_type": "code",
   "execution_count": null,
   "metadata": {},
   "outputs": [],
   "source": [
    "df.drop('continent',axis=1).head() # Axis 1 is for Columns\n",
    "df.drop([0,4,3],axis=0).head() # Axis 0 is for Rows\n",
    "df.country = df.country.str.title()\n",
    "df.head()"
   ]
  },
  {
   "cell_type": "code",
   "execution_count": null,
   "metadata": {},
   "outputs": [],
   "source": [
    "# Using string methods on a dataset\n",
    "df = pd.read_table(r\"http://bit.ly/chiporders\")\n",
    "df[df.item_name.str.contains(\"Chips\")]\n",
    "# It's possible to chain methods\n",
    "df['choice_description'] = df['choice_description'].str.replace(\"[\",\"\").str.replace(\"]\",\"\")\n",
    "df"
   ]
  },
  {
   "cell_type": "code",
   "execution_count": null,
   "metadata": {},
   "outputs": [],
   "source": [
    "# Changing Data Types\n",
    "df = pd.read_csv(r\"http://bit.ly/drinksbycountry\")\n",
    "df.head()"
   ]
  },
  {
   "cell_type": "code",
   "execution_count": null,
   "metadata": {},
   "outputs": [],
   "source": [
    "# Changing the Data Type before\n",
    "df = pd.read_csv(r\"http://bit.ly/drinksbycountry\",dtype={\"beer_servings\":float})\n",
    "# Changing the Data Type after\n",
    "df.wine_servings = df.wine_servings.astype(float)\n",
    "# Boolean to Int to work with Machine Learning\n",
    "df.country.str.startswith(\"A\").astype(int)\n",
    "df.dtypes"
   ]
  },
  {
   "cell_type": "code",
   "execution_count": null,
   "metadata": {},
   "outputs": [],
   "source": [
    "# GroupBy\n",
    "\n",
    "df = pd.read_csv(r\"http://bit.ly/drinksbycountry\")\n",
    "df\n",
    "df.groupby(\"continent\")['beer_servings'].mean()\n",
    "# For each continent - Show the sum of beer servings\n",
    "df.groupby(\"continent\")['beer_servings'].sum()\n",
    "# The .agg method is OP\n",
    "df.groupby(\"continent\")['beer_servings'].agg(['min','max','count','sum','mean'])\n",
    "# This will perform sum for all columns\n",
    "df.groupby(\"continent\").sum()\n"
   ]
  },
  {
   "cell_type": "code",
   "execution_count": 14,
   "metadata": {},
   "outputs": [
    {
     "data": {
      "text/plain": [
       "count       979\n",
       "unique       16\n",
       "top       Drama\n",
       "freq        278\n",
       "Name: genre, dtype: object"
      ]
     },
     "execution_count": 14,
     "metadata": {},
     "output_type": "execute_result"
    }
   ],
   "source": [
    "df = pd.read_csv(r\"http://bit.ly/imdbratings\")\n",
    "df.genre.describe()"
   ]
  }
 ],
 "metadata": {
  "kernelspec": {
   "display_name": "Python 3",
   "language": "python",
   "name": "python3"
  },
  "language_info": {
   "codemirror_mode": {
    "name": "ipython",
    "version": 3
   },
   "file_extension": ".py",
   "mimetype": "text/x-python",
   "name": "python",
   "nbconvert_exporter": "python",
   "pygments_lexer": "ipython3",
   "version": "3.11.0"
  }
 },
 "nbformat": 4,
 "nbformat_minor": 2
}
