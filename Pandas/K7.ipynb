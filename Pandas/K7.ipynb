{
 "cells": [
  {
   "cell_type": "code",
   "execution_count": null,
   "metadata": {},
   "outputs": [],
   "source": [
    "import pandas as pd\n"
   ]
  },
  {
   "cell_type": "code",
   "execution_count": null,
   "metadata": {},
   "outputs": [],
   "source": [
    "drinks = pd.read_csv(r\"http://bit.ly/drinksbycountry\")"
   ]
  },
  {
   "cell_type": "code",
   "execution_count": null,
   "metadata": {},
   "outputs": [],
   "source": [
    "# Setando pra mostrar quantas rows e colunas você deseja\n",
    "pd.options.display.max_rows = 999\n",
    "pd.options.display.max_columns = None\n",
    "# Setando pra mostrar quantos caracteres vai mostrar\n",
    "pd.options.display.max_colwidth = 1000\n",
    "# Setando a quantidade de numeros depois da virgula\n",
    "pd.options.display.precision = 2\n",
    "# Pesquisando options\n",
    "pd.describe_option(\"rows\")\n",
    "# Resetando todas as options\n",
    "pd.reset_option('all')"
   ]
  },
  {
   "cell_type": "code",
   "execution_count": null,
   "metadata": {},
   "outputs": [],
   "source": [
    "train = pd.read_csv(r\"http://bit.ly/kaggletrain\")\n",
    "train"
   ]
  }
 ],
 "metadata": {
  "kernelspec": {
   "display_name": "Python 3",
   "language": "python",
   "name": "python3"
  },
  "language_info": {
   "codemirror_mode": {
    "name": "ipython",
    "version": 3
   },
   "file_extension": ".py",
   "mimetype": "text/x-python",
   "name": "python",
   "nbconvert_exporter": "python",
   "pygments_lexer": "ipython3",
   "version": "3.11.0"
  }
 },
 "nbformat": 4,
 "nbformat_minor": 2
}
